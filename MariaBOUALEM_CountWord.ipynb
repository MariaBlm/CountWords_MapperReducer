{
  "nbformat": 4,
  "nbformat_minor": 0,
  "metadata": {
    "colab": {
      "provenance": []
    },
    "kernelspec": {
      "name": "python3",
      "display_name": "Python 3"
    },
    "language_info": {
      "name": "python"
    }
  },
  "cells": [
    {
      "cell_type": "code",
      "source": [
        "#  input text\n",
        "input_text = \"\"\"\n",
        "Etre ou ne pas etre la est la question\n",
        "\"\"\"\n",
        "\n",
        "#En utilisant un .txt\n",
        "with open('Input.txt', 'r') as file:\n",
        "  input_text = file.read()  # Read the entire content of the file"
      ],
      "metadata": {
        "id": "QPWsnl6N_6UJ"
      },
      "execution_count": 12,
      "outputs": []
    },
    {
      "cell_type": "markdown",
      "source": [
        "# Mapper"
      ],
      "metadata": {
        "id": "fJqQMqe__u9C"
      }
    },
    {
      "cell_type": "code",
      "source": [
        "# Mapper\n",
        "def mapper(text):\n",
        "    word_counts = []\n",
        "    #diviser en mots  et convertir en miniscule\n",
        "    words = text.split()\n",
        "    for word in words:\n",
        "        # Emit key-value pair (word, 1)\n",
        "        word_counts.append((word.lower(), 1))\n",
        "    return word_counts\n",
        "\n",
        "mapper(input_text)"
      ],
      "metadata": {
        "colab": {
          "base_uri": "https://localhost:8080/"
        },
        "id": "SGPlJLld_5UG",
        "outputId": "f38a7883-31f3-4dd2-8166-1deb44b53572"
      },
      "execution_count": 17,
      "outputs": [
        {
          "output_type": "execute_result",
          "data": {
            "text/plain": [
              "[('etre', 1),\n",
              " ('ou', 1),\n",
              " ('ne', 1),\n",
              " ('pas', 1),\n",
              " ('etre', 1),\n",
              " ('la', 1),\n",
              " ('est', 1),\n",
              " ('la', 1),\n",
              " ('question', 1)]"
            ]
          },
          "metadata": {},
          "execution_count": 17
        }
      ]
    },
    {
      "cell_type": "markdown",
      "source": [
        "# Reducer"
      ],
      "metadata": {
        "id": "ZEZv_uBZ_yZB"
      }
    },
    {
      "cell_type": "code",
      "execution_count": 8,
      "metadata": {
        "colab": {
          "base_uri": "https://localhost:8080/"
        },
        "id": "J3W03kgX_nki",
        "outputId": "ef3f5483-9f53-4fa1-faec-97662c47f98f"
      },
      "outputs": [
        {
          "output_type": "execute_result",
          "data": {
            "text/plain": [
              "{'etre': 2, 'ou': 1, 'ne': 1, 'pas': 1, 'la': 2, 'est': 1, 'question': 1}"
            ]
          },
          "metadata": {},
          "execution_count": 8
        }
      ],
      "source": [
        "# Reducer\n",
        "def reducer(mapped_data):\n",
        "    reduced_data = {}  # Initialise a  dictionary\n",
        "\n",
        "    for word, count in mapped_data:\n",
        "        if word in reduced_data:\n",
        "            reduced_data[word] += count  # Increment the count if word already exists\n",
        "        else:\n",
        "            reduced_data[word] = count   # Initialize the count for a new word\n",
        "    return reduced_data\n",
        "\n",
        "\n",
        "#Output\n",
        "reducer(mapper(input_text))"
      ]
    },
    {
      "cell_type": "markdown",
      "source": [
        "# The whole process"
      ],
      "metadata": {
        "id": "3goCu8krAXKi"
      }
    },
    {
      "cell_type": "code",
      "source": [
        "# Simulating the MapReduce process\n",
        "\n",
        "# Step 1: Map\n",
        "mapped_data = mapper(input_text)\n",
        "\n",
        "# Step 2: Shuffle\n",
        "# On a écraser les valeurs en faisant count + avec mon code donc pas besoin !\n",
        "\n",
        "# Step 3: Reduce\n",
        "reduced_data = reducer(mapped_data)\n",
        "\n",
        "# Output\n",
        "for word, count in reduced_data.items():\n",
        "        print(f'{word}: {count}')"
      ],
      "metadata": {
        "colab": {
          "base_uri": "https://localhost:8080/"
        },
        "id": "4NSD-JVxAU8H",
        "outputId": "0073bf20-8151-4a0e-c69a-c2e764f3bae2"
      },
      "execution_count": 18,
      "outputs": [
        {
          "output_type": "stream",
          "name": "stdout",
          "text": [
            "etre: 2\n",
            "ou: 1\n",
            "ne: 1\n",
            "pas: 1\n",
            "la: 2\n",
            "est: 1\n",
            "question: 1\n"
          ]
        }
      ]
    },
    {
      "cell_type": "code",
      "source": [],
      "metadata": {
        "id": "uhdPwIjBEIPr"
      },
      "execution_count": null,
      "outputs": []
    }
  ]
}
